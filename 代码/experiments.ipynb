{
  "nbformat": 4,
  "nbformat_minor": 0,
  "metadata": {
    "colab": {
      "provenance": []
    },
    "kernelspec": {
      "name": "python3",
      "display_name": "Python 3"
    },
    "language_info": {
      "name": "python"
    }
  },
  "cells": [
    {
      "cell_type": "code",
      "source": [
        "# 安装依赖（首次运行）\n",
        "!pip install evaluate bert_score rouge_score nltk --quiet\n"
      ],
      "metadata": {
        "id": "4uzLDFu0wIL7"
      },
      "execution_count": null,
      "outputs": []
    },
    {
      "cell_type": "code",
      "source": [
        "# A\n",
        "# 85样本，已清洗\n",
        "# sampled_train.jsonl\n",
        "# sampled_test.jsonl\n",
        "# few-shot k=6\n",
        "# 5 epoch\n",
        "\n",
        "# ✅ 导入模块\n",
        "import json\n",
        "import random\n",
        "import requests\n",
        "from tqdm import tqdm\n",
        "import evaluate\n",
        "from nltk.translate.bleu_score import sentence_bleu, SmoothingFunction\n",
        "import matplotlib.pyplot as plt\n",
        "\n",
        "# ✅ 读取新数据集（85条完整数据，格式已标准化）\n",
        "with open(\"sampled_train.jsonl\", \"r\", encoding=\"utf-8\") as f:\n",
        "    train_data = [json.loads(line) for line in f]\n",
        "with open(\"sampled_test.jsonl\", \"r\", encoding=\"utf-8\") as f:\n",
        "    test_data = [json.loads(line) for line in f]\n",
        "\n",
        "# ✅ Qwen API\n",
        "QWEN_API_KEY = \"sk-\"\n",
        "QWEN_API_URL = \"https://dashscope.aliyuncs.com/api/v1/services/aigc/text-generation/generation\"\n",
        "\n",
        "# ✅ 构造few-shot prompt（每轮 k=6 条）\n",
        "def build_few_shot_messages(k=6):\n",
        "    examples = random.sample(train_data, k)\n",
        "    messages = [{\n",
        "        \"role\": \"system\",\n",
        "        \"content\": \"You are a music cognition expert. Convert restaurant scene descriptions into MusicGen-style music prompts. Describe BPM, genre, mood, key, instrumentation.\"\n",
        "    }]\n",
        "    for ex in examples:\n",
        "        messages.append({\"role\": \"user\", \"content\": f\"Scene: {ex['scene']}\"})\n",
        "        messages.append({\"role\": \"assistant\", \"content\": ex['music']})\n",
        "    return messages\n",
        "\n",
        "# ✅ 调用Qwen\n",
        "def generate_music_description(scene_desc, k=6):\n",
        "    messages = build_few_shot_messages(k)\n",
        "    messages.append({\"role\": \"user\", \"content\": f\"Scene: {scene_desc}\"})\n",
        "\n",
        "    headers = {\n",
        "        \"Authorization\": f\"Bearer {QWEN_API_KEY}\",\n",
        "        \"Content-Type\": \"application/json\"\n",
        "    }\n",
        "    payload = {\n",
        "        \"model\": \"qwen2.5-14b-instruct\",\n",
        "        \"input\": {\"messages\": messages},\n",
        "        \"parameters\": {\"temperature\": 0.5, \"max_tokens\": 150}\n",
        "    }\n",
        "    response = requests.post(QWEN_API_URL, headers=headers, json=payload)\n",
        "    if response.status_code == 200:\n",
        "        return response.json().get(\"output\", {}).get(\"text\", \"\").strip()\n",
        "    else:\n",
        "        return \"ERROR\"\n",
        "\n",
        "# ✅ 多轮验证（默认 epochs = 5 轮）\n",
        "epochs = 5\n",
        "results_by_round = []\n",
        "\n",
        "for round_idx in range(epochs):\n",
        "    print(f\"\\n🚀 Round {round_idx + 1}/{epochs}\")\n",
        "    round_results = []\n",
        "    for sample in tqdm(test_data):\n",
        "        pred = generate_music_description(sample[\"scene\"], k=10)\n",
        "        round_results.append({\n",
        "            \"scene\": sample[\"scene\"],\n",
        "            \"reference\": sample[\"music\"],\n",
        "            \"prediction\": pred\n",
        "        })\n",
        "\n",
        "    references = [x[\"reference\"] for x in round_results]\n",
        "    predictions = [x[\"prediction\"] for x in round_results]\n",
        "\n",
        "    rouge = evaluate.load(\"rouge\")\n",
        "    meteor = evaluate.load(\"meteor\")\n",
        "    bertscore = evaluate.load(\"bertscore\")\n",
        "\n",
        "    smoothie = SmoothingFunction().method4\n",
        "    bleu_scores = [sentence_bleu([ref.split()], pred.split(), smoothing_function=smoothie) for ref, pred in zip(references, predictions)]\n",
        "    avg_bleu = sum(bleu_scores) / len(bleu_scores)\n",
        "    rouge_result = rouge.compute(predictions=predictions, references=references)\n",
        "    meteor_result = meteor.compute(predictions=predictions, references=references)\n",
        "    bertscore_result = bertscore.compute(predictions=predictions, references=references, lang=\"en\")\n",
        "    avg_bertscore_f1 = sum(bertscore_result[\"f1\"]) / len(bertscore_result[\"f1\"])\n",
        "\n",
        "    results_by_round.append({\n",
        "        \"BLEU\": avg_bleu,\n",
        "        \"ROUGE-L\": rouge_result[\"rougeL\"],\n",
        "        \"METEOR\": meteor_result[\"meteor\"],\n",
        "        \"BERTScore_F1\": avg_bertscore_f1\n",
        "    })\n",
        "\n",
        "# ✅ 可视化\n",
        "rounds = list(range(1, epochs + 1))\n",
        "plt.figure(figsize=(10, 6))\n",
        "for metric in [\"BLEU\", \"ROUGE-L\", \"METEOR\", \"BERTScore_F1\"]:\n",
        "    scores = [res[metric] for res in results_by_round]\n",
        "    plt.plot(rounds, scores, label=metric)\n",
        "\n",
        "plt.xlabel(\"Round\")\n",
        "plt.ylabel(\"Score\")\n",
        "plt.title(\"Qwen Few-shot Multi-round Evaluation\")\n",
        "plt.legend()\n",
        "plt.grid(True)\n",
        "plt.tight_layout()\n",
        "plt.show()\n",
        "\n",
        "# ✅ 输出每轮得分\n",
        "for idx, scores in enumerate(results_by_round):\n",
        "    print(f\"\\n📊 Round {idx + 1} Scores:\")\n",
        "    for k, v in scores.items():\n",
        "        print(f\"{k}: {v:.4f}\")"
      ],
      "metadata": {
        "colab": {
          "base_uri": "https://localhost:8080/",
          "height": 1000
        },
        "id": "CAojhnpwamlE",
        "outputId": "48742348-8185-47da-bdeb-f27de6a0967e"
      },
      "execution_count": null,
      "outputs": [
        {
          "output_type": "stream",
          "name": "stdout",
          "text": [
            "\n",
            "🚀 Round 1/5\n"
          ]
        },
        {
          "output_type": "stream",
          "name": "stderr",
          "text": [
            "100%|██████████| 9/9 [00:46<00:00,  5.16s/it]\n",
            "[nltk_data] Downloading package wordnet to /root/nltk_data...\n",
            "[nltk_data]   Package wordnet is already up-to-date!\n",
            "[nltk_data] Downloading package punkt_tab to /root/nltk_data...\n",
            "[nltk_data]   Package punkt_tab is already up-to-date!\n",
            "[nltk_data] Downloading package omw-1.4 to /root/nltk_data...\n",
            "[nltk_data]   Package omw-1.4 is already up-to-date!\n",
            "Some weights of RobertaModel were not initialized from the model checkpoint at roberta-large and are newly initialized: ['pooler.dense.bias', 'pooler.dense.weight']\n",
            "You should probably TRAIN this model on a down-stream task to be able to use it for predictions and inference.\n"
          ]
        },
        {
          "output_type": "stream",
          "name": "stdout",
          "text": [
            "\n",
            "🚀 Round 2/5\n"
          ]
        },
        {
          "output_type": "stream",
          "name": "stderr",
          "text": [
            "100%|██████████| 9/9 [00:46<00:00,  5.16s/it]\n",
            "[nltk_data] Downloading package wordnet to /root/nltk_data...\n",
            "[nltk_data]   Package wordnet is already up-to-date!\n",
            "[nltk_data] Downloading package punkt_tab to /root/nltk_data...\n",
            "[nltk_data]   Package punkt_tab is already up-to-date!\n",
            "[nltk_data] Downloading package omw-1.4 to /root/nltk_data...\n",
            "[nltk_data]   Package omw-1.4 is already up-to-date!\n",
            "Some weights of RobertaModel were not initialized from the model checkpoint at roberta-large and are newly initialized: ['pooler.dense.bias', 'pooler.dense.weight']\n",
            "You should probably TRAIN this model on a down-stream task to be able to use it for predictions and inference.\n"
          ]
        },
        {
          "output_type": "stream",
          "name": "stdout",
          "text": [
            "\n",
            "🚀 Round 3/5\n"
          ]
        },
        {
          "output_type": "stream",
          "name": "stderr",
          "text": [
            "100%|██████████| 9/9 [00:45<00:00,  5.07s/it]\n",
            "[nltk_data] Downloading package wordnet to /root/nltk_data...\n",
            "[nltk_data]   Package wordnet is already up-to-date!\n",
            "[nltk_data] Downloading package punkt_tab to /root/nltk_data...\n",
            "[nltk_data]   Package punkt_tab is already up-to-date!\n",
            "[nltk_data] Downloading package omw-1.4 to /root/nltk_data...\n",
            "[nltk_data]   Package omw-1.4 is already up-to-date!\n",
            "Some weights of RobertaModel were not initialized from the model checkpoint at roberta-large and are newly initialized: ['pooler.dense.bias', 'pooler.dense.weight']\n",
            "You should probably TRAIN this model on a down-stream task to be able to use it for predictions and inference.\n"
          ]
        },
        {
          "output_type": "stream",
          "name": "stdout",
          "text": [
            "\n",
            "🚀 Round 4/5\n"
          ]
        },
        {
          "output_type": "stream",
          "name": "stderr",
          "text": [
            "100%|██████████| 9/9 [00:45<00:00,  5.05s/it]\n",
            "[nltk_data] Downloading package wordnet to /root/nltk_data...\n",
            "[nltk_data]   Package wordnet is already up-to-date!\n",
            "[nltk_data] Downloading package punkt_tab to /root/nltk_data...\n",
            "[nltk_data]   Package punkt_tab is already up-to-date!\n",
            "[nltk_data] Downloading package omw-1.4 to /root/nltk_data...\n",
            "[nltk_data]   Package omw-1.4 is already up-to-date!\n",
            "Some weights of RobertaModel were not initialized from the model checkpoint at roberta-large and are newly initialized: ['pooler.dense.bias', 'pooler.dense.weight']\n",
            "You should probably TRAIN this model on a down-stream task to be able to use it for predictions and inference.\n"
          ]
        },
        {
          "output_type": "stream",
          "name": "stdout",
          "text": [
            "\n",
            "🚀 Round 5/5\n"
          ]
        },
        {
          "output_type": "stream",
          "name": "stderr",
          "text": [
            "100%|██████████| 9/9 [00:47<00:00,  5.28s/it]\n",
            "[nltk_data] Downloading package wordnet to /root/nltk_data...\n",
            "[nltk_data]   Package wordnet is already up-to-date!\n",
            "[nltk_data] Downloading package punkt_tab to /root/nltk_data...\n",
            "[nltk_data]   Package punkt_tab is already up-to-date!\n",
            "[nltk_data] Downloading package omw-1.4 to /root/nltk_data...\n",
            "[nltk_data]   Package omw-1.4 is already up-to-date!\n",
            "Some weights of RobertaModel were not initialized from the model checkpoint at roberta-large and are newly initialized: ['pooler.dense.bias', 'pooler.dense.weight']\n",
            "You should probably TRAIN this model on a down-stream task to be able to use it for predictions and inference.\n"
          ]
        },
        {
          "output_type": "display_data",
          "data": {
            "text/plain": [
              "<Figure size 1000x600 with 1 Axes>"
            ],
            "image/png": "[encoded data removed]"
          },
          "metadata": {}
        },
        {
          "output_type": "stream",
          "name": "stdout",
          "text": [
            "\n",
            "📊 Round 1 Scores:\n",
            "BLEU: 0.2699\n",
            "ROUGE-L: 0.5816\n",
            "METEOR: 0.6264\n",
            "BERTScore_F1: 0.8505\n",
            "\n",
            "📊 Round 2 Scores:\n",
            "BLEU: 0.2734\n",
            "ROUGE-L: 0.5586\n",
            "METEOR: 0.6458\n",
            "BERTScore_F1: 0.8774\n",
            "\n",
            "📊 Round 3 Scores:\n",
            "BLEU: 0.2475\n",
            "ROUGE-L: 0.5473\n",
            "METEOR: 0.6214\n",
            "BERTScore_F1: 0.8638\n",
            "\n",
            "📊 Round 4 Scores:\n",
            "BLEU: 0.2924\n",
            "ROUGE-L: 0.5898\n",
            "METEOR: 0.6470\n",
            "BERTScore_F1: 0.8673\n",
            "\n",
            "📊 Round 5 Scores:\n",
            "BLEU: 0.2611\n",
            "ROUGE-L: 0.5661\n",
            "METEOR: 0.6340\n",
            "BERTScore_F1: 0.8533\n"
          ]
        }
      ]
    },
    {
      "cell_type": "code",
      "source": [
        "# B\n",
        "# 205样本，已清洗\n",
        "# data4_ending_please_train.jsonl\n",
        "# data4_ending_please_test.jsonl\n",
        "# few-shot k=6\n",
        "# 5 epoch\n",
        "\n",
        "# ✅ 导入模块\n",
        "import json\n",
        "import random\n",
        "import requests\n",
        "from tqdm import tqdm\n",
        "import evaluate\n",
        "from nltk.translate.bleu_score import sentence_bleu, SmoothingFunction\n",
        "import matplotlib.pyplot as plt\n",
        "\n",
        "# ✅ 读取新数据集（205条完整数据，格式已标准化）\n",
        "with open(\"data4_ending_please_train.jsonl\", \"r\", encoding=\"utf-8\") as f:\n",
        "    train_data = [json.loads(line) for line in f]\n",
        "with open(\"data4_ending_please_test.jsonl\", \"r\", encoding=\"utf-8\") as f:\n",
        "    test_data = [json.loads(line) for line in f]\n",
        "\n",
        "# ✅ Qwen API设置\n",
        "QWEN_API_KEY = \"sk-\"\n",
        "QWEN_API_URL = \"https://dashscope.aliyuncs.com/api/v1/services/aigc/text-generation/generation\"\n",
        "\n",
        "# ✅ 构造few-shot prompt（每轮 k=6 条）\n",
        "def build_few_shot_messages(k=6):\n",
        "    examples = random.sample(train_data, k)\n",
        "    messages = [{\n",
        "        \"role\": \"system\",\n",
        "        \"content\": \"You are a music cognition expert. Convert restaurant scene descriptions into MusicGen-style music prompts. Describe BPM, genre, mood, key, instrumentation.\"\n",
        "    }]\n",
        "    for ex in examples:\n",
        "        messages.append({\"role\": \"user\", \"content\": f\"Scene: {ex['scene']}\"})\n",
        "        messages.append({\"role\": \"assistant\", \"content\": ex['music']})\n",
        "    return messages\n",
        "\n",
        "# ✅ 调用Qwen\n",
        "def generate_music_description(scene_desc, k=6):\n",
        "    messages = build_few_shot_messages(k)\n",
        "    messages.append({\"role\": \"user\", \"content\": f\"Scene: {scene_desc}\"})\n",
        "    headers = {\n",
        "        \"Authorization\": f\"Bearer {QWEN_API_KEY}\",\n",
        "        \"Content-Type\": \"application/json\"\n",
        "    }\n",
        "    payload = {\n",
        "        \"model\": \"qwen2.5-14b-instruct\",\n",
        "        \"input\": {\"messages\": messages},\n",
        "        \"parameters\": {\"temperature\": 0.5, \"max_tokens\": 150}\n",
        "    }\n",
        "    response = requests.post(QWEN_API_URL, headers=headers, json=payload)\n",
        "    if response.status_code == 200:\n",
        "        return response.json().get(\"output\", {}).get(\"text\", \"\").strip()\n",
        "    else:\n",
        "        return \"ERROR\"\n",
        "\n",
        "# ✅ 多轮验证（默认 5 轮）\n",
        "epochs = 5\n",
        "results_by_round = []\n",
        "\n",
        "for round_idx in range(epochs):\n",
        "    print(f\"\\n🚀 Round {round_idx + 1}/{epochs}\")\n",
        "    round_results = []\n",
        "    for sample in tqdm(test_data):\n",
        "        pred = generate_music_description(sample[\"scene\"], k=6)\n",
        "        round_results.append({\n",
        "            \"scene\": sample[\"scene\"],\n",
        "            \"reference\": sample[\"music\"],\n",
        "            \"prediction\": pred\n",
        "        })\n",
        "\n",
        "    references = [x[\"reference\"] for x in round_results]\n",
        "    predictions = [x[\"prediction\"] for x in round_results]\n",
        "\n",
        "    rouge = evaluate.load(\"rouge\")\n",
        "    meteor = evaluate.load(\"meteor\")\n",
        "    bertscore = evaluate.load(\"bertscore\")\n",
        "\n",
        "    smoothie = SmoothingFunction().method4\n",
        "    bleu_scores = [sentence_bleu([ref.split()], pred.split(), smoothing_function=smoothie) for ref, pred in zip(references, predictions)]\n",
        "    avg_bleu = sum(bleu_scores) / len(bleu_scores)\n",
        "    rouge_result = rouge.compute(predictions=predictions, references=references)\n",
        "    meteor_result = meteor.compute(predictions=predictions, references=references)\n",
        "    bertscore_result = bertscore.compute(predictions=predictions, references=references, lang=\"en\")\n",
        "    avg_bertscore_f1 = sum(bertscore_result[\"f1\"]) / len(bertscore_result[\"f1\"])\n",
        "\n",
        "    results_by_round.append({\n",
        "        \"BLEU\": avg_bleu,\n",
        "        \"ROUGE-L\": rouge_result[\"rougeL\"],\n",
        "        \"METEOR\": meteor_result[\"meteor\"],\n",
        "        \"BERTScore_F1\": avg_bertscore_f1\n",
        "    })\n",
        "\n",
        "# ✅ 可视化\n",
        "rounds = list(range(1, epochs + 1))\n",
        "plt.figure(figsize=(10, 6))\n",
        "for metric in [\"BLEU\", \"ROUGE-L\", \"METEOR\", \"BERTScore_F1\"]:\n",
        "    scores = [res[metric] for res in results_by_round]\n",
        "    plt.plot(rounds, scores, label=metric)\n",
        "\n",
        "plt.xlabel(\"Round\")\n",
        "plt.ylabel(\"Score\")\n",
        "plt.title(\"Qwen Few-shot Multi-round Evaluation\")\n",
        "plt.legend()\n",
        "plt.grid(True)\n",
        "plt.tight_layout()\n",
        "plt.show()\n",
        "\n",
        "# ✅ 输出每轮得分\n",
        "for idx, scores in enumerate(results_by_round):\n",
        "    print(f\"\\n📊 Round {idx + 1} Scores:\")\n",
        "    for k, v in scores.items():\n",
        "        print(f\"{k}: {v:.4f}\")"
      ],
      "metadata": {
        "id": "ux4bKQU_Cvck",
        "colab": {
          "base_uri": "https://localhost:8080/",
          "height": 1000
        },
        "outputId": "d1b61d15-6a54-43cb-f017-98a5add926b0"
      },
      "execution_count": null,
      "outputs": [
        {
          "output_type": "stream",
          "name": "stdout",
          "text": [
            "\n",
            "🚀 Round 1/5\n"
          ]
        },
        {
          "output_type": "stream",
          "name": "stderr",
          "text": [
            "100%|██████████| 21/21 [01:41<00:00,  4.83s/it]\n",
            "[nltk_data] Downloading package wordnet to /root/nltk_data...\n",
            "[nltk_data]   Package wordnet is already up-to-date!\n",
            "[nltk_data] Downloading package punkt_tab to /root/nltk_data...\n",
            "[nltk_data]   Package punkt_tab is already up-to-date!\n",
            "[nltk_data] Downloading package omw-1.4 to /root/nltk_data...\n",
            "[nltk_data]   Package omw-1.4 is already up-to-date!\n",
            "Some weights of RobertaModel were not initialized from the model checkpoint at roberta-large and are newly initialized: ['pooler.dense.bias', 'pooler.dense.weight']\n",
            "You should probably TRAIN this model on a down-stream task to be able to use it for predictions and inference.\n"
          ]
        },
        {
          "output_type": "stream",
          "name": "stdout",
          "text": [
            "\n",
            "🚀 Round 2/5\n"
          ]
        },
        {
          "output_type": "stream",
          "name": "stderr",
          "text": [
            "100%|██████████| 21/21 [01:44<00:00,  4.97s/it]\n",
            "[nltk_data] Downloading package wordnet to /root/nltk_data...\n",
            "[nltk_data]   Package wordnet is already up-to-date!\n",
            "[nltk_data] Downloading package punkt_tab to /root/nltk_data...\n",
            "[nltk_data]   Package punkt_tab is already up-to-date!\n",
            "[nltk_data] Downloading package omw-1.4 to /root/nltk_data...\n",
            "[nltk_data]   Package omw-1.4 is already up-to-date!\n",
            "Some weights of RobertaModel were not initialized from the model checkpoint at roberta-large and are newly initialized: ['pooler.dense.bias', 'pooler.dense.weight']\n",
            "You should probably TRAIN this model on a down-stream task to be able to use it for predictions and inference.\n"
          ]
        },
        {
          "output_type": "stream",
          "name": "stdout",
          "text": [
            "\n",
            "🚀 Round 3/5\n"
          ]
        },
        {
          "output_type": "stream",
          "name": "stderr",
          "text": [
            "100%|██████████| 21/21 [01:47<00:00,  5.10s/it]\n",
            "[nltk_data] Downloading package wordnet to /root/nltk_data...\n",
            "[nltk_data]   Package wordnet is already up-to-date!\n",
            "[nltk_data] Downloading package punkt_tab to /root/nltk_data...\n",
            "[nltk_data]   Package punkt_tab is already up-to-date!\n",
            "[nltk_data] Downloading package omw-1.4 to /root/nltk_data...\n",
            "[nltk_data]   Package omw-1.4 is already up-to-date!\n",
            "Some weights of RobertaModel were not initialized from the model checkpoint at roberta-large and are newly initialized: ['pooler.dense.bias', 'pooler.dense.weight']\n",
            "You should probably TRAIN this model on a down-stream task to be able to use it for predictions and inference.\n"
          ]
        },
        {
          "output_type": "stream",
          "name": "stdout",
          "text": [
            "\n",
            "🚀 Round 4/5\n"
          ]
        },
        {
          "output_type": "stream",
          "name": "stderr",
          "text": [
            "100%|██████████| 21/21 [01:46<00:00,  5.06s/it]\n",
            "[nltk_data] Downloading package wordnet to /root/nltk_data...\n",
            "[nltk_data]   Package wordnet is already up-to-date!\n",
            "[nltk_data] Downloading package punkt_tab to /root/nltk_data...\n",
            "[nltk_data]   Package punkt_tab is already up-to-date!\n",
            "[nltk_data] Downloading package omw-1.4 to /root/nltk_data...\n",
            "[nltk_data]   Package omw-1.4 is already up-to-date!\n",
            "Some weights of RobertaModel were not initialized from the model checkpoint at roberta-large and are newly initialized: ['pooler.dense.bias', 'pooler.dense.weight']\n",
            "You should probably TRAIN this model on a down-stream task to be able to use it for predictions and inference.\n"
          ]
        },
        {
          "output_type": "stream",
          "name": "stdout",
          "text": [
            "\n",
            "🚀 Round 5/5\n"
          ]
        },
        {
          "output_type": "stream",
          "name": "stderr",
          "text": [
            "100%|██████████| 21/21 [01:50<00:00,  5.26s/it]\n",
            "[nltk_data] Downloading package wordnet to /root/nltk_data...\n",
            "[nltk_data]   Package wordnet is already up-to-date!\n",
            "[nltk_data] Downloading package punkt_tab to /root/nltk_data...\n",
            "[nltk_data]   Package punkt_tab is already up-to-date!\n",
            "[nltk_data] Downloading package omw-1.4 to /root/nltk_data...\n",
            "[nltk_data]   Package omw-1.4 is already up-to-date!\n",
            "Some weights of RobertaModel were not initialized from the model checkpoint at roberta-large and are newly initialized: ['pooler.dense.bias', 'pooler.dense.weight']\n",
            "You should probably TRAIN this model on a down-stream task to be able to use it for predictions and inference.\n"
          ]
        },
        {
          "output_type": "display_data",
          "data": {
            "text/plain": [
              "<Figure size 1000x600 with 1 Axes>"
            ],
            "image/png": "[encoded data removed]"
          },
          "metadata": {}
        },
        {
          "output_type": "stream",
          "name": "stdout",
          "text": [
            "\n",
            "📊 Round 1 Scores:\n",
            "BLEU: 0.2418\n",
            "ROUGE-L: 0.5160\n",
            "METEOR: 0.5579\n",
            "BERTScore_F1: 0.8600\n",
            "\n",
            "📊 Round 2 Scores:\n",
            "BLEU: 0.2402\n",
            "ROUGE-L: 0.5478\n",
            "METEOR: 0.6139\n",
            "BERTScore_F1: 0.8638\n",
            "\n",
            "📊 Round 3 Scores:\n",
            "BLEU: 0.2441\n",
            "ROUGE-L: 0.5429\n",
            "METEOR: 0.6083\n",
            "BERTScore_F1: 0.8667\n",
            "\n",
            "📊 Round 4 Scores:\n",
            "BLEU: 0.2582\n",
            "ROUGE-L: 0.5607\n",
            "METEOR: 0.6200\n",
            "BERTScore_F1: 0.8645\n",
            "\n",
            "📊 Round 5 Scores:\n",
            "BLEU: 0.2679\n",
            "ROUGE-L: 0.5618\n",
            "METEOR: 0.6431\n",
            "BERTScore_F1: 0.8684\n"
          ]
        }
      ]
    },
    {
      "cell_type": "code",
      "source": [
        "# C\n",
        "# 205样本，已清洗\n",
        "# data4_ending_please_train.jsonl\n",
        "# data4_ending_please_test.jsonl\n",
        "# few-shot k=10\n",
        "# 5 epoch\n",
        "\n",
        "# ✅ 导入模块\n",
        "import json\n",
        "import random\n",
        "import requests\n",
        "from tqdm import tqdm\n",
        "import evaluate\n",
        "from nltk.translate.bleu_score import sentence_bleu, SmoothingFunction\n",
        "import matplotlib.pyplot as plt\n",
        "\n",
        "# ✅ 读取新数据集（205条完整数据，格式已标准化）\n",
        "with open(\"data4_ending_please_train.jsonl\", \"r\", encoding=\"utf-8\") as f:\n",
        "    train_data = [json.loads(line) for line in f]\n",
        "with open(\"data4_ending_please_test.jsonl\", \"r\", encoding=\"utf-8\") as f:\n",
        "    test_data = [json.loads(line) for line in f]\n",
        "\n",
        "# ✅ Qwen API设置\n",
        "QWEN_API_KEY = \"sk-\"\n",
        "QWEN_API_URL = \"https://dashscope.aliyuncs.com/api/v1/services/aigc/text-generation/generation\"\n",
        "\n",
        "# ✅ 构造few-shot prompt（每轮 k=10 条）\n",
        "def build_few_shot_messages(k=10):\n",
        "    examples = random.sample(train_data, k)\n",
        "    messages = [{\n",
        "        \"role\": \"system\",\n",
        "        \"content\": \"You are a music cognition expert. Convert restaurant scene descriptions into MusicGen-style music prompts. Describe BPM, genre, mood, key, instrumentation.\"\n",
        "    }]\n",
        "    for ex in examples:\n",
        "        messages.append({\"role\": \"user\", \"content\": f\"Scene: {ex['scene']}\"})\n",
        "        messages.append({\"role\": \"assistant\", \"content\": ex['music']})\n",
        "    return messages\n",
        "\n",
        "# ✅ 调用Qwen\n",
        "def generate_music_description(scene_desc, k=10):\n",
        "    messages = build_few_shot_messages(k)\n",
        "    messages.append({\"role\": \"user\", \"content\": f\"Scene: {scene_desc}\"})\n",
        "    headers = {\n",
        "        \"Authorization\": f\"Bearer {QWEN_API_KEY}\",\n",
        "        \"Content-Type\": \"application/json\"\n",
        "    }\n",
        "    payload = {\n",
        "        \"model\": \"qwen2.5-14b-instruct\",\n",
        "        \"input\": {\"messages\": messages},\n",
        "        \"parameters\": {\"temperature\": 0.5, \"max_tokens\": 150}\n",
        "    }\n",
        "    response = requests.post(QWEN_API_URL, headers=headers, json=payload)\n",
        "    if response.status_code == 200:\n",
        "        return response.json().get(\"output\", {}).get(\"text\", \"\").strip()\n",
        "    else:\n",
        "        return \"ERROR\"\n",
        "\n",
        "# ✅ 多轮验证（默认 5 轮）\n",
        "epochs = 5\n",
        "results_by_round = []\n",
        "\n",
        "for round_idx in range(epochs):\n",
        "    print(f\"\\n🚀 Round {round_idx + 1}/{epochs}\")\n",
        "    round_results = []\n",
        "    for sample in tqdm(test_data):\n",
        "        pred = generate_music_description(sample[\"scene\"], k=10)\n",
        "        round_results.append({\n",
        "            \"scene\": sample[\"scene\"],\n",
        "            \"reference\": sample[\"music\"],\n",
        "            \"prediction\": pred\n",
        "        })\n",
        "\n",
        "    references = [x[\"reference\"] for x in round_results]\n",
        "    predictions = [x[\"prediction\"] for x in round_results]\n",
        "\n",
        "    rouge = evaluate.load(\"rouge\")\n",
        "    meteor = evaluate.load(\"meteor\")\n",
        "    bertscore = evaluate.load(\"bertscore\")\n",
        "\n",
        "    smoothie = SmoothingFunction().method4\n",
        "    bleu_scores = [sentence_bleu([ref.split()], pred.split(), smoothing_function=smoothie) for ref, pred in zip(references, predictions)]\n",
        "    avg_bleu = sum(bleu_scores) / len(bleu_scores)\n",
        "    rouge_result = rouge.compute(predictions=predictions, references=references)\n",
        "    meteor_result = meteor.compute(predictions=predictions, references=references)\n",
        "    bertscore_result = bertscore.compute(predictions=predictions, references=references, lang=\"en\")\n",
        "    avg_bertscore_f1 = sum(bertscore_result[\"f1\"]) / len(bertscore_result[\"f1\"])\n",
        "\n",
        "    results_by_round.append({\n",
        "        \"BLEU\": avg_bleu,\n",
        "        \"ROUGE-L\": rouge_result[\"rougeL\"],\n",
        "        \"METEOR\": meteor_result[\"meteor\"],\n",
        "        \"BERTScore_F1\": avg_bertscore_f1\n",
        "    })\n",
        "\n",
        "# ✅ 可视化\n",
        "rounds = list(range(1, epochs + 1))\n",
        "plt.figure(figsize=(10, 6))\n",
        "for metric in [\"BLEU\", \"ROUGE-L\", \"METEOR\", \"BERTScore_F1\"]:\n",
        "    scores = [res[metric] for res in results_by_round]\n",
        "    plt.plot(rounds, scores, label=metric)\n",
        "\n",
        "plt.xlabel(\"Round\")\n",
        "plt.ylabel(\"Score\")\n",
        "plt.title(\"Qwen Few-shot Multi-round Evaluation\")\n",
        "plt.legend()\n",
        "plt.grid(True)\n",
        "plt.tight_layout()\n",
        "plt.show()\n",
        "\n",
        "# ✅ 输出每轮得分\n",
        "for idx, scores in enumerate(results_by_round):\n",
        "    print(f\"\\n📊 Round {idx + 1} Scores:\")\n",
        "    for k, v in scores.items():\n",
        "        print(f\"{k}: {v:.4f}\")"
      ],
      "metadata": {
        "id": "B-eJoWIkHOSQ",
        "colab": {
          "base_uri": "https://localhost:8080/",
          "height": 1000
        },
        "outputId": "e6a12e23-b9c3-44bb-df32-a92fe1ec9d01"
      },
      "execution_count": null,
      "outputs": [
        {
          "output_type": "stream",
          "name": "stdout",
          "text": [
            "\n",
            "🚀 Round 1/5\n"
          ]
        },
        {
          "output_type": "stream",
          "name": "stderr",
          "text": [
            "100%|██████████| 21/21 [01:54<00:00,  5.46s/it]\n",
            "[nltk_data] Downloading package wordnet to /root/nltk_data...\n",
            "[nltk_data]   Package wordnet is already up-to-date!\n",
            "[nltk_data] Downloading package punkt_tab to /root/nltk_data...\n",
            "[nltk_data]   Package punkt_tab is already up-to-date!\n",
            "[nltk_data] Downloading package omw-1.4 to /root/nltk_data...\n",
            "[nltk_data]   Package omw-1.4 is already up-to-date!\n",
            "Some weights of RobertaModel were not initialized from the model checkpoint at roberta-large and are newly initialized: ['pooler.dense.bias', 'pooler.dense.weight']\n",
            "You should probably TRAIN this model on a down-stream task to be able to use it for predictions and inference.\n"
          ]
        },
        {
          "output_type": "stream",
          "name": "stdout",
          "text": [
            "\n",
            "🚀 Round 2/5\n"
          ]
        },
        {
          "output_type": "stream",
          "name": "stderr",
          "text": [
            "100%|██████████| 21/21 [01:56<00:00,  5.53s/it]\n",
            "[nltk_data] Downloading package wordnet to /root/nltk_data...\n",
            "[nltk_data]   Package wordnet is already up-to-date!\n",
            "[nltk_data] Downloading package punkt_tab to /root/nltk_data...\n",
            "[nltk_data]   Package punkt_tab is already up-to-date!\n",
            "[nltk_data] Downloading package omw-1.4 to /root/nltk_data...\n",
            "[nltk_data]   Package omw-1.4 is already up-to-date!\n",
            "Some weights of RobertaModel were not initialized from the model checkpoint at roberta-large and are newly initialized: ['pooler.dense.bias', 'pooler.dense.weight']\n",
            "You should probably TRAIN this model on a down-stream task to be able to use it for predictions and inference.\n"
          ]
        },
        {
          "output_type": "stream",
          "name": "stdout",
          "text": [
            "\n",
            "🚀 Round 3/5\n"
          ]
        },
        {
          "output_type": "stream",
          "name": "stderr",
          "text": [
            "100%|██████████| 21/21 [01:52<00:00,  5.37s/it]\n",
            "[nltk_data] Downloading package wordnet to /root/nltk_data...\n",
            "[nltk_data]   Package wordnet is already up-to-date!\n",
            "[nltk_data] Downloading package punkt_tab to /root/nltk_data...\n",
            "[nltk_data]   Package punkt_tab is already up-to-date!\n",
            "[nltk_data] Downloading package omw-1.4 to /root/nltk_data...\n",
            "[nltk_data]   Package omw-1.4 is already up-to-date!\n",
            "Some weights of RobertaModel were not initialized from the model checkpoint at roberta-large and are newly initialized: ['pooler.dense.bias', 'pooler.dense.weight']\n",
            "You should probably TRAIN this model on a down-stream task to be able to use it for predictions and inference.\n"
          ]
        },
        {
          "output_type": "stream",
          "name": "stdout",
          "text": [
            "\n",
            "🚀 Round 4/5\n"
          ]
        },
        {
          "output_type": "stream",
          "name": "stderr",
          "text": [
            "100%|██████████| 21/21 [01:44<00:00,  5.00s/it]\n",
            "[nltk_data] Downloading package wordnet to /root/nltk_data...\n",
            "[nltk_data]   Package wordnet is already up-to-date!\n",
            "[nltk_data] Downloading package punkt_tab to /root/nltk_data...\n",
            "[nltk_data]   Package punkt_tab is already up-to-date!\n",
            "[nltk_data] Downloading package omw-1.4 to /root/nltk_data...\n",
            "[nltk_data]   Package omw-1.4 is already up-to-date!\n",
            "Some weights of RobertaModel were not initialized from the model checkpoint at roberta-large and are newly initialized: ['pooler.dense.bias', 'pooler.dense.weight']\n",
            "You should probably TRAIN this model on a down-stream task to be able to use it for predictions and inference.\n"
          ]
        },
        {
          "output_type": "stream",
          "name": "stdout",
          "text": [
            "\n",
            "🚀 Round 5/5\n"
          ]
        },
        {
          "output_type": "stream",
          "name": "stderr",
          "text": [
            "100%|██████████| 21/21 [01:44<00:00,  4.98s/it]\n",
            "[nltk_data] Downloading package wordnet to /root/nltk_data...\n",
            "[nltk_data]   Package wordnet is already up-to-date!\n",
            "[nltk_data] Downloading package punkt_tab to /root/nltk_data...\n",
            "[nltk_data]   Package punkt_tab is already up-to-date!\n",
            "[nltk_data] Downloading package omw-1.4 to /root/nltk_data...\n",
            "[nltk_data]   Package omw-1.4 is already up-to-date!\n",
            "Some weights of RobertaModel were not initialized from the model checkpoint at roberta-large and are newly initialized: ['pooler.dense.bias', 'pooler.dense.weight']\n",
            "You should probably TRAIN this model on a down-stream task to be able to use it for predictions and inference.\n"
          ]
        },
        {
          "output_type": "display_data",
          "data": {
            "text/plain": [
              "<Figure size 1000x600 with 1 Axes>"
            ],
            "image/png": "[encoded data removed]"
          },
          "metadata": {}
        },
        {
          "output_type": "stream",
          "name": "stdout",
          "text": [
            "\n",
            "📊 Round 1 Scores:\n",
            "BLEU: 0.2732\n",
            "ROUGE-L: 0.5741\n",
            "METEOR: 0.6377\n",
            "BERTScore_F1: 0.8676\n",
            "\n",
            "📊 Round 2 Scores:\n",
            "BLEU: 0.2735\n",
            "ROUGE-L: 0.5699\n",
            "METEOR: 0.6284\n",
            "BERTScore_F1: 0.8686\n",
            "\n",
            "📊 Round 3 Scores:\n",
            "BLEU: 0.2844\n",
            "ROUGE-L: 0.5780\n",
            "METEOR: 0.6379\n",
            "BERTScore_F1: 0.8658\n",
            "\n",
            "📊 Round 4 Scores:\n",
            "BLEU: 0.2772\n",
            "ROUGE-L: 0.5814\n",
            "METEOR: 0.6403\n",
            "BERTScore_F1: 0.8680\n",
            "\n",
            "📊 Round 5 Scores:\n",
            "BLEU: 0.2764\n",
            "ROUGE-L: 0.5778\n",
            "METEOR: 0.6258\n",
            "BERTScore_F1: 0.8664\n"
          ]
        }
      ]
    },
    {
      "cell_type": "code",
      "source": [
        "# D\n",
        "# 185样本，已清洗\n",
        "# data4_ending_please_train.jsonl\n",
        "# data4_ending_please_test.jsonl\n",
        "# few-shot k=10\n",
        "# 10 epoch\n",
        "\n",
        "# ✅ 导入模块\n",
        "import json\n",
        "import random\n",
        "import requests\n",
        "from tqdm import tqdm\n",
        "import evaluate\n",
        "from nltk.translate.bleu_score import sentence_bleu, SmoothingFunction\n",
        "import matplotlib.pyplot as plt\n",
        "\n",
        "# ✅ 读取新数据集（205条完整数据，格式已标准化）\n",
        "with open(\"data4_ending_please_train.jsonl\", \"r\", encoding=\"utf-8\") as f:\n",
        "    train_data = [json.loads(line) for line in f]\n",
        "with open(\"data4_ending_please_test.jsonl\", \"r\", encoding=\"utf-8\") as f:\n",
        "    test_data = [json.loads(line) for line in f]\n",
        "\n",
        "# ✅ Qwen API\n",
        "QWEN_API_KEY = \"sk-\"\n",
        "QWEN_API_URL = \"https://dashscope.aliyuncs.com/api/v1/services/aigc/text-generation/generation\"\n",
        "\n",
        "# ✅ 构造few-shot prompt（每轮 k=10 条）\n",
        "def build_few_shot_messages(k=10):\n",
        "    examples = random.sample(train_data, k)\n",
        "    messages = [{\n",
        "        \"role\": \"system\",\n",
        "        \"content\": \"You are a music cognition expert. Convert restaurant scene descriptions into MusicGen-style music prompts. Describe BPM, genre, mood, key, instrumentation.\"\n",
        "    }]\n",
        "    for ex in examples:\n",
        "        messages.append({\"role\": \"user\", \"content\": f\"Scene: {ex['scene']}\"})\n",
        "        messages.append({\"role\": \"assistant\", \"content\": ex['music']})\n",
        "    return messages\n",
        "\n",
        "# ✅ 调用Qwen\n",
        "def generate_music_description(scene_desc, k=10):\n",
        "    messages = build_few_shot_messages(k)\n",
        "    messages.append({\"role\": \"user\", \"content\": f\"Scene: {scene_desc}\"})\n",
        "    headers = {\n",
        "        \"Authorization\": f\"Bearer {QWEN_API_KEY}\",\n",
        "        \"Content-Type\": \"application/json\"\n",
        "    }\n",
        "    payload = {\n",
        "        \"model\": \"qwen2.5-14b-instruct\",\n",
        "        \"input\": {\"messages\": messages},\n",
        "        \"parameters\": {\"temperature\": 0.5, \"max_tokens\": 150}\n",
        "    }\n",
        "    response = requests.post(QWEN_API_URL, headers=headers, json=payload)\n",
        "    if response.status_code == 200:\n",
        "        return response.json().get(\"output\", {}).get(\"text\", \"\").strip()\n",
        "    else:\n",
        "        return \"ERROR\"\n",
        "\n",
        "# ✅ 多轮验证（10轮）\n",
        "epochs = 10\n",
        "results_by_round = []\n",
        "\n",
        "for round_idx in range(epochs):\n",
        "    print(f\"\\n🚀 Round {round_idx + 1}/{epochs}\")\n",
        "    round_results = []\n",
        "    for sample in tqdm(test_data):\n",
        "        pred = generate_music_description(sample[\"scene\"], k=10)\n",
        "        round_results.append({\n",
        "            \"scene\": sample[\"scene\"],\n",
        "            \"reference\": sample[\"music\"],\n",
        "            \"prediction\": pred\n",
        "        })\n",
        "\n",
        "    references = [x[\"reference\"] for x in round_results]\n",
        "    predictions = [x[\"prediction\"] for x in round_results]\n",
        "\n",
        "    rouge = evaluate.load(\"rouge\")\n",
        "    meteor = evaluate.load(\"meteor\")\n",
        "    bertscore = evaluate.load(\"bertscore\")\n",
        "\n",
        "    smoothie = SmoothingFunction().method4\n",
        "    bleu_scores = [sentence_bleu([ref.split()], pred.split(), smoothing_function=smoothie) for ref, pred in zip(references, predictions)]\n",
        "    avg_bleu = sum(bleu_scores) / len(bleu_scores)\n",
        "    rouge_result = rouge.compute(predictions=predictions, references=references)\n",
        "    meteor_result = meteor.compute(predictions=predictions, references=references)\n",
        "    bertscore_result = bertscore.compute(predictions=predictions, references=references, lang=\"en\")\n",
        "    avg_bertscore_f1 = sum(bertscore_result[\"f1\"]) / len(bertscore_result[\"f1\"])\n",
        "\n",
        "    results_by_round.append({\n",
        "        \"BLEU\": avg_bleu,\n",
        "        \"ROUGE-L\": rouge_result[\"rougeL\"],\n",
        "        \"METEOR\": meteor_result[\"meteor\"],\n",
        "        \"BERTScore_F1\": avg_bertscore_f1\n",
        "    })\n",
        "\n",
        "# ✅ 可视化\n",
        "rounds = list(range(1, epochs + 1))\n",
        "plt.figure(figsize=(10, 6))\n",
        "for metric in [\"BLEU\", \"ROUGE-L\", \"METEOR\", \"BERTScore_F1\"]:\n",
        "    scores = [res[metric] for res in results_by_round]\n",
        "    plt.plot(rounds, scores, label=metric)\n",
        "\n",
        "plt.xlabel(\"Round\")\n",
        "plt.ylabel(\"Score\")\n",
        "plt.title(\"Qwen Few-shot Multi-round Evaluation\")\n",
        "plt.legend()\n",
        "plt.grid(True)\n",
        "plt.tight_layout()\n",
        "plt.show()\n",
        "\n",
        "# ✅ 输出每轮得分\n",
        "for idx, scores in enumerate(results_by_round):\n",
        "    print(f\"\\n📊 Round {idx + 1} Scores:\")\n",
        "    for k, v in scores.items():\n",
        "        print(f\"{k}: {v:.4f}\")"
      ],
      "metadata": {
        "id": "edveh9O2Qjl3",
        "colab": {
          "base_uri": "https://localhost:8080/",
          "height": 1000
        },
        "outputId": "be72a701-ffe1-44c2-b733-f3bdd39754d3"
      },
      "execution_count": null,
      "outputs": [
        {
          "metadata": {
            "tags": null
          },
          "name": "stdout",
          "output_type": "stream",
          "text": [
            "\n",
            "🚀 Round 1/10\n"
          ]
        },
        {
          "metadata": {
            "tags": null
          },
          "name": "stderr",
          "output_type": "stream",
          "text": [
            "100%|██████████| 21/21 [01:50<00:00,  5.24s/it]\n",
            "[nltk_data] Downloading package wordnet to /root/nltk_data...\n",
            "[nltk_data]   Package wordnet is already up-to-date!\n",
            "[nltk_data] Downloading package punkt_tab to /root/nltk_data...\n",
            "[nltk_data]   Package punkt_tab is already up-to-date!\n",
            "[nltk_data] Downloading package omw-1.4 to /root/nltk_data...\n",
            "[nltk_data]   Package omw-1.4 is already up-to-date!\n",
            "Some weights of RobertaModel were not initialized from the model checkpoint at roberta-large and are newly initialized: ['pooler.dense.bias', 'pooler.dense.weight']\n",
            "You should probably TRAIN this model on a down-stream task to be able to use it for predictions and inference.\n"
          ]
        },
        {
          "metadata": {
            "tags": null
          },
          "name": "stdout",
          "output_type": "stream",
          "text": [
            "\n",
            "🚀 Round 2/10\n"
          ]
        },
        {
          "metadata": {
            "tags": null
          },
          "name": "stderr",
          "output_type": "stream",
          "text": [
            "100%|██████████| 21/21 [01:41<00:00,  4.84s/it]\n",
            "[nltk_data] Downloading package wordnet to /root/nltk_data...\n",
            "[nltk_data]   Package wordnet is already up-to-date!\n",
            "[nltk_data] Downloading package punkt_tab to /root/nltk_data...\n",
            "[nltk_data]   Package punkt_tab is already up-to-date!\n",
            "[nltk_data] Downloading package omw-1.4 to /root/nltk_data...\n",
            "[nltk_data]   Package omw-1.4 is already up-to-date!\n",
            "Some weights of RobertaModel were not initialized from the model checkpoint at roberta-large and are newly initialized: ['pooler.dense.bias', 'pooler.dense.weight']\n",
            "You should probably TRAIN this model on a down-stream task to be able to use it for predictions and inference.\n"
          ]
        },
        {
          "metadata": {
            "tags": null
          },
          "name": "stdout",
          "output_type": "stream",
          "text": [
            "\n",
            "🚀 Round 3/10\n"
          ]
        },
        {
          "metadata": {
            "tags": null
          },
          "name": "stderr",
          "output_type": "stream",
          "text": [
            "100%|██████████| 21/21 [01:51<00:00,  5.29s/it]\n",
            "[nltk_data] Downloading package wordnet to /root/nltk_data...\n",
            "[nltk_data]   Package wordnet is already up-to-date!\n",
            "[nltk_data] Downloading package punkt_tab to /root/nltk_data...\n",
            "[nltk_data]   Package punkt_tab is already up-to-date!\n",
            "[nltk_data] Downloading package omw-1.4 to /root/nltk_data...\n",
            "[nltk_data]   Package omw-1.4 is already up-to-date!\n",
            "Some weights of RobertaModel were not initialized from the model checkpoint at roberta-large and are newly initialized: ['pooler.dense.bias', 'pooler.dense.weight']\n",
            "You should probably TRAIN this model on a down-stream task to be able to use it for predictions and inference.\n"
          ]
        },
        {
          "metadata": {
            "tags": null
          },
          "name": "stdout",
          "output_type": "stream",
          "text": [
            "\n",
            "🚀 Round 4/10\n"
          ]
        },
        {
          "output_type": "stream",
          "name": "stderr",
          "text": [
            "100%|██████████| 21/21 [01:52<00:00,  5.37s/it]\n",
            "[nltk_data] Downloading package wordnet to /root/nltk_data...\n",
            "[nltk_data]   Package wordnet is already up-to-date!\n",
            "[nltk_data] Downloading package punkt_tab to /root/nltk_data...\n",
            "[nltk_data]   Package punkt_tab is already up-to-date!\n",
            "[nltk_data] Downloading package omw-1.4 to /root/nltk_data...\n",
            "[nltk_data]   Package omw-1.4 is already up-to-date!\n",
            "Some weights of RobertaModel were not initialized from the model checkpoint at roberta-large and are newly initialized: ['pooler.dense.bias', 'pooler.dense.weight']\n",
            "You should probably TRAIN this model on a down-stream task to be able to use it for predictions and inference.\n"
          ]
        },
        {
          "output_type": "stream",
          "name": "stdout",
          "text": [
            "\n",
            "🚀 Round 5/10\n"
          ]
        },
        {
          "output_type": "stream",
          "name": "stderr",
          "text": [
            "100%|██████████| 21/21 [01:54<00:00,  5.45s/it]\n",
            "[nltk_data] Downloading package wordnet to /root/nltk_data...\n",
            "[nltk_data]   Package wordnet is already up-to-date!\n",
            "[nltk_data] Downloading package punkt_tab to /root/nltk_data...\n",
            "[nltk_data]   Package punkt_tab is already up-to-date!\n",
            "[nltk_data] Downloading package omw-1.4 to /root/nltk_data...\n",
            "[nltk_data]   Package omw-1.4 is already up-to-date!\n",
            "Some weights of RobertaModel were not initialized from the model checkpoint at roberta-large and are newly initialized: ['pooler.dense.bias', 'pooler.dense.weight']\n",
            "You should probably TRAIN this model on a down-stream task to be able to use it for predictions and inference.\n"
          ]
        },
        {
          "output_type": "stream",
          "name": "stdout",
          "text": [
            "\n",
            "🚀 Round 6/10\n"
          ]
        },
        {
          "output_type": "stream",
          "name": "stderr",
          "text": [
            "100%|██████████| 21/21 [01:58<00:00,  5.65s/it]\n",
            "[nltk_data] Downloading package wordnet to /root/nltk_data...\n",
            "[nltk_data]   Package wordnet is already up-to-date!\n",
            "[nltk_data] Downloading package punkt_tab to /root/nltk_data...\n",
            "[nltk_data]   Package punkt_tab is already up-to-date!\n",
            "[nltk_data] Downloading package omw-1.4 to /root/nltk_data...\n",
            "[nltk_data]   Package omw-1.4 is already up-to-date!\n",
            "Some weights of RobertaModel were not initialized from the model checkpoint at roberta-large and are newly initialized: ['pooler.dense.bias', 'pooler.dense.weight']\n",
            "You should probably TRAIN this model on a down-stream task to be able to use it for predictions and inference.\n"
          ]
        },
        {
          "output_type": "stream",
          "name": "stdout",
          "text": [
            "\n",
            "🚀 Round 7/10\n"
          ]
        },
        {
          "output_type": "stream",
          "name": "stderr",
          "text": [
            "100%|██████████| 21/21 [01:39<00:00,  4.74s/it]\n",
            "[nltk_data] Downloading package wordnet to /root/nltk_data...\n",
            "[nltk_data]   Package wordnet is already up-to-date!\n",
            "[nltk_data] Downloading package punkt_tab to /root/nltk_data...\n",
            "[nltk_data]   Package punkt_tab is already up-to-date!\n",
            "[nltk_data] Downloading package omw-1.4 to /root/nltk_data...\n",
            "[nltk_data]   Package omw-1.4 is already up-to-date!\n",
            "Some weights of RobertaModel were not initialized from the model checkpoint at roberta-large and are newly initialized: ['pooler.dense.bias', 'pooler.dense.weight']\n",
            "You should probably TRAIN this model on a down-stream task to be able to use it for predictions and inference.\n"
          ]
        },
        {
          "output_type": "stream",
          "name": "stdout",
          "text": [
            "\n",
            "🚀 Round 8/10\n"
          ]
        },
        {
          "output_type": "stream",
          "name": "stderr",
          "text": [
            "100%|██████████| 21/21 [01:45<00:00,  5.00s/it]\n",
            "[nltk_data] Downloading package wordnet to /root/nltk_data...\n",
            "[nltk_data]   Package wordnet is already up-to-date!\n",
            "[nltk_data] Downloading package punkt_tab to /root/nltk_data...\n",
            "[nltk_data]   Package punkt_tab is already up-to-date!\n",
            "[nltk_data] Downloading package omw-1.4 to /root/nltk_data...\n",
            "[nltk_data]   Package omw-1.4 is already up-to-date!\n",
            "Some weights of RobertaModel were not initialized from the model checkpoint at roberta-large and are newly initialized: ['pooler.dense.bias', 'pooler.dense.weight']\n",
            "You should probably TRAIN this model on a down-stream task to be able to use it for predictions and inference.\n"
          ]
        },
        {
          "output_type": "stream",
          "name": "stdout",
          "text": [
            "\n",
            "🚀 Round 9/10\n"
          ]
        },
        {
          "output_type": "stream",
          "name": "stderr",
          "text": [
            "100%|██████████| 21/21 [01:46<00:00,  5.05s/it]\n",
            "[nltk_data] Downloading package wordnet to /root/nltk_data...\n",
            "[nltk_data]   Package wordnet is already up-to-date!\n",
            "[nltk_data] Downloading package punkt_tab to /root/nltk_data...\n",
            "[nltk_data]   Package punkt_tab is already up-to-date!\n",
            "[nltk_data] Downloading package omw-1.4 to /root/nltk_data...\n",
            "[nltk_data]   Package omw-1.4 is already up-to-date!\n",
            "Some weights of RobertaModel were not initialized from the model checkpoint at roberta-large and are newly initialized: ['pooler.dense.bias', 'pooler.dense.weight']\n",
            "You should probably TRAIN this model on a down-stream task to be able to use it for predictions and inference.\n"
          ]
        },
        {
          "output_type": "stream",
          "name": "stdout",
          "text": [
            "\n",
            "🚀 Round 10/10\n"
          ]
        },
        {
          "output_type": "stream",
          "name": "stderr",
          "text": [
            "100%|██████████| 21/21 [01:46<00:00,  5.09s/it]\n",
            "[nltk_data] Downloading package wordnet to /root/nltk_data...\n",
            "[nltk_data]   Package wordnet is already up-to-date!\n",
            "[nltk_data] Downloading package punkt_tab to /root/nltk_data...\n",
            "[nltk_data]   Package punkt_tab is already up-to-date!\n",
            "[nltk_data] Downloading package omw-1.4 to /root/nltk_data...\n",
            "[nltk_data]   Package omw-1.4 is already up-to-date!\n",
            "Some weights of RobertaModel were not initialized from the model checkpoint at roberta-large and are newly initialized: ['pooler.dense.bias', 'pooler.dense.weight']\n",
            "You should probably TRAIN this model on a down-stream task to be able to use it for predictions and inference.\n"
          ]
        },
        {
          "output_type": "display_data",
          "data": {
            "text/plain": [
              "<Figure size 1000x600 with 1 Axes>"
            ],
            "image/png": "[encoded data removed]"
          },
          "metadata": {}
        },
        {
          "output_type": "stream",
          "name": "stdout",
          "text": [
            "\n",
            "📊 Round 1 Scores:\n",
            "BLEU: 0.2646\n",
            "ROUGE-L: 0.5655\n",
            "METEOR: 0.6516\n",
            "BERTScore_F1: 0.8623\n",
            "\n",
            "📊 Round 2 Scores:\n",
            "BLEU: 0.2927\n",
            "ROUGE-L: 0.5851\n",
            "METEOR: 0.6373\n",
            "BERTScore_F1: 0.8706\n",
            "\n",
            "📊 Round 3 Scores:\n",
            "BLEU: 0.2575\n",
            "ROUGE-L: 0.5571\n",
            "METEOR: 0.6107\n",
            "BERTScore_F1: 0.8634\n",
            "\n",
            "📊 Round 4 Scores:\n",
            "BLEU: 0.2708\n",
            "ROUGE-L: 0.5646\n",
            "METEOR: 0.6279\n",
            "BERTScore_F1: 0.8621\n",
            "\n",
            "📊 Round 5 Scores:\n",
            "BLEU: 0.2746\n",
            "ROUGE-L: 0.5791\n",
            "METEOR: 0.6328\n",
            "BERTScore_F1: 0.8614\n",
            "\n",
            "📊 Round 6 Scores:\n",
            "BLEU: 0.2824\n",
            "ROUGE-L: 0.5835\n",
            "METEOR: 0.6540\n",
            "BERTScore_F1: 0.8643\n",
            "\n",
            "📊 Round 7 Scores:\n",
            "BLEU: 0.2751\n",
            "ROUGE-L: 0.5769\n",
            "METEOR: 0.6422\n",
            "BERTScore_F1: 0.8750\n",
            "\n",
            "📊 Round 8 Scores:\n",
            "BLEU: 0.2757\n",
            "ROUGE-L: 0.5730\n",
            "METEOR: 0.6349\n",
            "BERTScore_F1: 0.8626\n",
            "\n",
            "📊 Round 9 Scores:\n",
            "BLEU: 0.2637\n",
            "ROUGE-L: 0.5532\n",
            "METEOR: 0.6356\n",
            "BERTScore_F1: 0.8626\n",
            "\n",
            "📊 Round 10 Scores:\n",
            "BLEU: 0.2749\n",
            "ROUGE-L: 0.5704\n",
            "METEOR: 0.6362\n",
            "BERTScore_F1: 0.8671\n"
          ]
        }
      ]
    },
    {
      "cell_type": "code",
      "source": [
        "# E zero-shot\n",
        "# 205样本，已清洗\n",
        "# data4_ending_please_test.jsonl\n",
        "# few-shot k=10\n",
        "# 5 epoch\n",
        "\n",
        "# ✅ 导入模块\n",
        "import json\n",
        "import requests\n",
        "from tqdm import tqdm\n",
        "import evaluate\n",
        "from nltk.translate.bleu_score import sentence_bleu, SmoothingFunction\n",
        "import matplotlib.pyplot as plt\n",
        "\n",
        "# ✅ 读取新数据集（205条完整数据，格式已标准化）\n",
        "with open(\"data4_ending_please_test.jsonl\", \"r\", encoding=\"utf-8\") as f:\n",
        "    test_data = [json.loads(line) for line in f]\n",
        "\n",
        "# ✅ Qwen API\n",
        "QWEN_API_KEY = \"sk-\"\n",
        "QWEN_API_URL = \"https://dashscope.aliyuncs.com/api/v1/services/aigc/text-generation/generation\"\n",
        "\n",
        "# ✅ Zero-shot构造零样本提示\n",
        "ZERO_SHOT_PROMPT = \"You are a music cognition expert. Convert the following restaurant scene description into a MusicGen-style music prompt. Describe BPM, genre, mood, key, instrumentation.\"\n",
        "\n",
        "# ✅ 调用Qwen\n",
        "def generate_music_description_zero_shot(scene_desc):\n",
        "    messages = [\n",
        "        {\"role\": \"system\", \"content\": ZERO_SHOT_PROMPT},\n",
        "        {\"role\": \"user\", \"content\": f\"Scene: {scene_desc}\"}\n",
        "    ]\n",
        "    headers = {\n",
        "        \"Authorization\": f\"Bearer {QWEN_API_KEY}\",\n",
        "        \"Content-Type\": \"application/json\"\n",
        "    }\n",
        "    payload = {\n",
        "        \"model\": \"qwen2.5-14b-instruct\",\n",
        "        \"input\": {\"messages\": messages},\n",
        "        \"parameters\": {\"temperature\": 0.5, \"max_tokens\": 150}\n",
        "    }\n",
        "    response = requests.post(QWEN_API_URL, headers=headers, json=payload)\n",
        "    if response.status_code == 200:\n",
        "        return response.json().get(\"output\", {}).get(\"text\", \"\").strip()\n",
        "    else:\n",
        "        return \"ERROR\"\n",
        "\n",
        "# ✅ 多轮验证（默认 5 轮）\n",
        "epochs = 5\n",
        "results_by_round = []\n",
        "\n",
        "for round_idx in range(epochs):\n",
        "    print(f\"\\n🚀 Round {round_idx + 1}/{epochs}\")\n",
        "    round_results = []\n",
        "    for sample in tqdm(test_data):\n",
        "        pred = generate_music_description_zero_shot(sample[\"scene\"])\n",
        "        round_results.append({\n",
        "            \"scene\": sample[\"scene\"],\n",
        "            \"reference\": sample[\"music\"],\n",
        "            \"prediction\": pred\n",
        "        })\n",
        "\n",
        "    references = [x[\"reference\"] for x in round_results]\n",
        "    predictions = [x[\"prediction\"] for x in round_results]\n",
        "\n",
        "    rouge = evaluate.load(\"rouge\")\n",
        "    meteor = evaluate.load(\"meteor\")\n",
        "    bertscore = evaluate.load(\"bertscore\")\n",
        "\n",
        "    smoothie = SmoothingFunction().method4\n",
        "    bleu_scores = [sentence_bleu([ref.split()], pred.split(), smoothing_function=smoothie) for ref, pred in zip(references, predictions)]\n",
        "    avg_bleu = sum(bleu_scores) / len(bleu_scores)\n",
        "    rouge_result = rouge.compute(predictions=predictions, references=references)\n",
        "    meteor_result = meteor.compute(predictions=predictions, references=references)\n",
        "    bertscore_result = bertscore.compute(predictions=predictions, references=references, lang=\"en\")\n",
        "    avg_bertscore_f1 = sum(bertscore_result[\"f1\"]) / len(bertscore_result[\"f1\"])\n",
        "\n",
        "    results_by_round.append({\n",
        "        \"BLEU\": avg_bleu,\n",
        "        \"ROUGE-L\": rouge_result[\"rougeL\"],\n",
        "        \"METEOR\": meteor_result[\"meteor\"],\n",
        "        \"BERTScore_F1\": avg_bertscore_f1\n",
        "    })\n",
        "\n",
        "# ✅ 可视化\n",
        "rounds = list(range(1, epochs + 1))\n",
        "plt.figure(figsize=(10, 6))\n",
        "for metric in [\"BLEU\", \"ROUGE-L\", \"METEOR\", \"BERTScore_F1\"]:\n",
        "    scores = [res[metric] for res in results_by_round]\n",
        "    plt.plot(rounds, scores, label=metric)\n",
        "\n",
        "plt.xlabel(\"Round\")\n",
        "plt.ylabel(\"Score\")\n",
        "plt.title(\"Qwen Zero-shot Multi-round Evaluation\")\n",
        "plt.legend()\n",
        "plt.grid(True)\n",
        "plt.tight_layout()\n",
        "plt.show()\n",
        "\n",
        "# ✅ 输出每轮得分\n",
        "for idx, scores in enumerate(results_by_round):\n",
        "    print(f\"\\n📊 Round {idx + 1} Scores:\")\n",
        "    for k, v in scores.items():\n",
        "        print(f\"{k}: {v:.4f}\")\n"
      ],
      "metadata": {
        "colab": {
          "base_uri": "https://localhost:8080/",
          "height": 1000
        },
        "id": "JxNDs00wV98N",
        "outputId": "763ddff4-f23d-45c2-e778-8e693d229ba1"
      },
      "execution_count": null,
      "outputs": [
        {
          "output_type": "stream",
          "name": "stdout",
          "text": [
            "\n",
            "🚀 Round 1/5\n"
          ]
        },
        {
          "output_type": "stream",
          "name": "stderr",
          "text": [
            "100%|██████████| 21/21 [01:39<00:00,  4.72s/it]\n",
            "[nltk_data] Downloading package wordnet to /root/nltk_data...\n",
            "[nltk_data]   Package wordnet is already up-to-date!\n",
            "[nltk_data] Downloading package punkt_tab to /root/nltk_data...\n",
            "[nltk_data]   Package punkt_tab is already up-to-date!\n",
            "[nltk_data] Downloading package omw-1.4 to /root/nltk_data...\n",
            "[nltk_data]   Package omw-1.4 is already up-to-date!\n",
            "Some weights of RobertaModel were not initialized from the model checkpoint at roberta-large and are newly initialized: ['pooler.dense.bias', 'pooler.dense.weight']\n",
            "You should probably TRAIN this model on a down-stream task to be able to use it for predictions and inference.\n"
          ]
        },
        {
          "output_type": "stream",
          "name": "stdout",
          "text": [
            "\n",
            "🚀 Round 2/5\n"
          ]
        },
        {
          "output_type": "stream",
          "name": "stderr",
          "text": [
            "100%|██████████| 21/21 [01:39<00:00,  4.74s/it]\n",
            "[nltk_data] Downloading package wordnet to /root/nltk_data...\n",
            "[nltk_data]   Package wordnet is already up-to-date!\n",
            "[nltk_data] Downloading package punkt_tab to /root/nltk_data...\n",
            "[nltk_data]   Package punkt_tab is already up-to-date!\n",
            "[nltk_data] Downloading package omw-1.4 to /root/nltk_data...\n",
            "[nltk_data]   Package omw-1.4 is already up-to-date!\n",
            "Some weights of RobertaModel were not initialized from the model checkpoint at roberta-large and are newly initialized: ['pooler.dense.bias', 'pooler.dense.weight']\n",
            "You should probably TRAIN this model on a down-stream task to be able to use it for predictions and inference.\n"
          ]
        },
        {
          "output_type": "stream",
          "name": "stdout",
          "text": [
            "\n",
            "🚀 Round 3/5\n"
          ]
        },
        {
          "output_type": "stream",
          "name": "stderr",
          "text": [
            "100%|██████████| 21/21 [01:42<00:00,  4.90s/it]\n",
            "[nltk_data] Downloading package wordnet to /root/nltk_data...\n",
            "[nltk_data]   Package wordnet is already up-to-date!\n",
            "[nltk_data] Downloading package punkt_tab to /root/nltk_data...\n",
            "[nltk_data]   Package punkt_tab is already up-to-date!\n",
            "[nltk_data] Downloading package omw-1.4 to /root/nltk_data...\n",
            "[nltk_data]   Package omw-1.4 is already up-to-date!\n",
            "Some weights of RobertaModel were not initialized from the model checkpoint at roberta-large and are newly initialized: ['pooler.dense.bias', 'pooler.dense.weight']\n",
            "You should probably TRAIN this model on a down-stream task to be able to use it for predictions and inference.\n"
          ]
        },
        {
          "output_type": "stream",
          "name": "stdout",
          "text": [
            "\n",
            "🚀 Round 4/5\n"
          ]
        },
        {
          "output_type": "stream",
          "name": "stderr",
          "text": [
            "100%|██████████| 21/21 [01:38<00:00,  4.69s/it]\n",
            "[nltk_data] Downloading package wordnet to /root/nltk_data...\n",
            "[nltk_data]   Package wordnet is already up-to-date!\n",
            "[nltk_data] Downloading package punkt_tab to /root/nltk_data...\n",
            "[nltk_data]   Package punkt_tab is already up-to-date!\n",
            "[nltk_data] Downloading package omw-1.4 to /root/nltk_data...\n",
            "[nltk_data]   Package omw-1.4 is already up-to-date!\n",
            "Some weights of RobertaModel were not initialized from the model checkpoint at roberta-large and are newly initialized: ['pooler.dense.bias', 'pooler.dense.weight']\n",
            "You should probably TRAIN this model on a down-stream task to be able to use it for predictions and inference.\n"
          ]
        },
        {
          "output_type": "stream",
          "name": "stdout",
          "text": [
            "\n",
            "🚀 Round 5/5\n"
          ]
        },
        {
          "output_type": "stream",
          "name": "stderr",
          "text": [
            "100%|██████████| 21/21 [01:34<00:00,  4.48s/it]\n",
            "[nltk_data] Downloading package wordnet to /root/nltk_data...\n",
            "[nltk_data]   Package wordnet is already up-to-date!\n",
            "[nltk_data] Downloading package punkt_tab to /root/nltk_data...\n",
            "[nltk_data]   Package punkt_tab is already up-to-date!\n",
            "[nltk_data] Downloading package omw-1.4 to /root/nltk_data...\n",
            "[nltk_data]   Package omw-1.4 is already up-to-date!\n",
            "Some weights of RobertaModel were not initialized from the model checkpoint at roberta-large and are newly initialized: ['pooler.dense.bias', 'pooler.dense.weight']\n",
            "You should probably TRAIN this model on a down-stream task to be able to use it for predictions and inference.\n"
          ]
        },
        {
          "output_type": "display_data",
          "data": {
            "text/plain": [
              "<Figure size 1000x600 with 1 Axes>"
            ],
            "image/png": "[encoded data removed]"
          },
          "metadata": {}
        },
        {
          "output_type": "stream",
          "name": "stdout",
          "text": [
            "\n",
            "📊 Round 1 Scores:\n",
            "BLEU: 0.0033\n",
            "ROUGE-L: 0.0844\n",
            "METEOR: 0.0768\n",
            "BERTScore_F1: 0.7421\n",
            "\n",
            "📊 Round 2 Scores:\n",
            "BLEU: 0.0031\n",
            "ROUGE-L: 0.0807\n",
            "METEOR: 0.0703\n",
            "BERTScore_F1: 0.7409\n",
            "\n",
            "📊 Round 3 Scores:\n",
            "BLEU: 0.0028\n",
            "ROUGE-L: 0.0855\n",
            "METEOR: 0.0851\n",
            "BERTScore_F1: 0.7441\n",
            "\n",
            "📊 Round 4 Scores:\n",
            "BLEU: 0.0024\n",
            "ROUGE-L: 0.0857\n",
            "METEOR: 0.0768\n",
            "BERTScore_F1: 0.7416\n",
            "\n",
            "📊 Round 5 Scores:\n",
            "BLEU: 0.0039\n",
            "ROUGE-L: 0.0879\n",
            "METEOR: 0.0788\n",
            "BERTScore_F1: 0.7476\n"
          ]
        }
      ]
    }
  ]
}